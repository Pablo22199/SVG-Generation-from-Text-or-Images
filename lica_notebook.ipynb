# Lica Research Assignment Notebook
# Run in order

# 1. Install dependencies
# pip install -r requirements.txt

# 2. Load dataset
from datasets import load_dataset
from PIL import Image
import random, os, io, cairosvg

ds = load_dataset("starvector/svg-stack", split="train[:200]")
os.makedirs("samples/gt_svg", exist_ok=True)
os.makedirs("samples/gt_png", exist_ok=True)

def rasterize(svg_text, size=256):
    png = cairosvg.svg2png(bytestring=svg_text.encode(), output_width=size, output_height=size)
    return Image.open(io.BytesIO(png)).convert("RGB")

items = random.sample(list(ds), 12)
for i, ex in enumerate(items):
    with open(f"samples/gt_svg/{i}.svg", "w") as f: f.write(ex["Svg"])
    rasterize(ex["Svg"]).save(f"samples/gt_png/{i}.png")

# 3. Classical baseline (Potrace)
import subprocess
os.makedirs("runs/B0_svg", exist_ok=True)
def png_to_pbm(png, pbm):
    img = Image.open(png).convert("L").point(lambda x: 255 if x>200 else 0, mode='1')
    img.save(pbm)
for i in range(len(items)):
    png = f"samples/gt_png/{i}.png"
    pbm = f"runs/B0_{i}.pbm"
    svg = f"runs/B0_svg/{i}.svg"
    png_to_pbm(png, pbm)
    subprocess.run(['potrace', pbm, '-s', '-o', svg])

# 4. Neural baseline (StarVector)
from transformers import AutoModelForCausalLM, AutoProcessor
import torch
device = 'cuda' if torch.cuda.is_available() else 'cpu'
ckpt = 'starvector/starvector-1b-im2svg'
model = AutoModelForCausalLM.from_pretrained(ckpt).to(device).eval()
processor = AutoProcessor.from_pretrained(ckpt)
os.makedirs('runs/B1_svg', exist_ok=True)

def im2svg(png_path):
    image = Image.open(png_path).convert('RGB')
    inputs = processor(images=image, text='Generate SVG:', return_tensors='pt').to(device)
    with torch.inference_mode():
        out = model.generate(**inputs, max_new_tokens=1024)
    txt = processor.batch_decode(out, skip_special_tokens=True)[0]
    s, e = txt.find('<svg'), txt.rfind('</svg>')
    return txt[s:e+6] if s!=-1 else txt

for i in range(len(items)):
    svg_text = im2svg(f'samples/gt_png/{i}.png')
    with open(f'runs/B1_svg/{i}.svg', 'w') as f: f.write(svg_text)

print('Done ✅')
